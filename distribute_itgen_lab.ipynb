{
 "cells": [
  {
   "cell_type": "markdown",
   "metadata": {
    "collapsed": true
   },
   "source": [
    "## Q1.\n",
    "\n",
    "Add methods `__iter__` to your project Time Series class to iterate over values, a method `itertimes` to iterate over times, a method `itervalues` to iterate over values, and a method `iteritems` to iterate over time-value pairs. (This is a similar interface to python dictionaries). To test these, check both the types of the results and the answers you expect."
   ]
  },
  {
   "cell_type": "code",
   "execution_count": 14,
   "metadata": {
    "collapsed": false
   },
   "outputs": [
    {
     "name": "stdout",
     "output_type": "stream",
     "text": [
      "<class 'TimeSeries.TimeSeriesIterator'>\n",
      "<class 'TimeSeries.TimeSeriesIterator'>\n",
      "1\n",
      "3\n",
      "5\n",
      "7\n",
      "9\n",
      "(0, 1)\n",
      "(1, 3)\n",
      "(2, 5)\n",
      "(3, 7)\n",
      "(4, 9)\n"
     ]
    }
   ],
   "source": [
    "#your code here\n",
    "from TimeSeries import TimeSeries\n",
    "\n",
    "ts = TimeSeries(range(5),range(1,11,2))\n",
    "print(type(ts.itervalues()))\n",
    "print(type(ts.itertimes()))\n",
    "for i in ts.itervalues():\n",
    "    print(i)\n",
    "    \n",
    "for i in ts.iteritems():\n",
    "    print(i)"
   ]
  },
  {
   "cell_type": "markdown",
   "metadata": {},
   "source": [
    "## Q2.\n",
    "\n",
    "An online mean and standard deviation algorithm.\n",
    "\n",
    "Below is a function to generate a potentially infinite stream of 1-D data."
   ]
  },
  {
   "cell_type": "code",
   "execution_count": 1,
   "metadata": {
    "collapsed": false
   },
   "outputs": [],
   "source": [
    "from random import normalvariate, random\n",
    "from itertools import count\n",
    "def make_data(m, stop=None):\n",
    "    for _ in count():\n",
    "        if stop and _ > stop:\n",
    "            break\n",
    "        yield 1.0e09 + normalvariate(0, m*random() )\n",
    "        "
   ]
  },
  {
   "cell_type": "markdown",
   "metadata": {},
   "source": [
    "Here is an implementation of an online mean algorithm..see http://www.johndcook.com/blog/standard_deviation/ and the link to http://www.johndcook.com/blog/2008/09/26/comparing-three-methods-of-computing-standard-deviation/ in-between. (Convince yourselves of the formulas...)"
   ]
  },
  {
   "cell_type": "code",
   "execution_count": 2,
   "metadata": {
    "collapsed": true
   },
   "outputs": [],
   "source": [
    "def online_mean(iterator):\n",
    "    n = 0\n",
    "    mu = 0\n",
    "    for value in iterator:\n",
    "        n += 1\n",
    "        delta = value - mu\n",
    "        mu = mu + delta/n\n",
    "        yield mu"
   ]
  },
  {
   "cell_type": "markdown",
   "metadata": {},
   "source": [
    "We use out generator functions to implement iterators:"
   ]
  },
  {
   "cell_type": "code",
   "execution_count": 3,
   "metadata": {
    "collapsed": false
   },
   "outputs": [
    {
     "data": {
      "text/plain": [
       "[999999999.5683017,\n",
       " 999999999.8597099,\n",
       " 999999999.6919423,\n",
       " 999999999.8549432,\n",
       " 999999998.19146,\n",
       " 1000000000.2917719,\n",
       " 1000000002.5967975,\n",
       " 999999998.089182,\n",
       " 999999999.267127,\n",
       " 999999999.9862918,\n",
       " 1000000000.0086004]"
      ]
     },
     "execution_count": 3,
     "metadata": {},
     "output_type": "execute_result"
    }
   ],
   "source": [
    "g = make_data(5, 10)\n",
    "list(g)"
   ]
  },
  {
   "cell_type": "code",
   "execution_count": 4,
   "metadata": {
    "collapsed": false
   },
   "outputs": [
    {
     "name": "stdout",
     "output_type": "stream",
     "text": [
      "<class 'generator'>\n"
     ]
    },
    {
     "data": {
      "text/plain": [
       "[1000000000.0989574,\n",
       " 1000000001.6179042,\n",
       " 1000000001.713668,\n",
       " 1000000000.997457,\n",
       " 1000000000.6507571,\n",
       " 999999999.981215,\n",
       " 999999999.8247719,\n",
       " 999999999.6106342,\n",
       " 999999999.6782371,\n",
       " 999999999.5511203,\n",
       " 999999999.9309299,\n",
       " 999999999.9283396,\n",
       " 1000000000.7886372,\n",
       " 1000000000.8133472,\n",
       " 1000000000.5641226,\n",
       " 1000000000.5411795,\n",
       " 1000000000.2780862,\n",
       " 1000000000.4199758,\n",
       " 1000000000.371202,\n",
       " 1000000000.3107443,\n",
       " 1000000000.410782,\n",
       " 1000000000.3811361,\n",
       " 1000000000.3562423,\n",
       " 1000000000.2368083,\n",
       " 1000000000.1732074,\n",
       " 1000000000.0924106,\n",
       " 1000000000.1395311,\n",
       " 1000000000.1793401,\n",
       " 1000000000.0511202,\n",
       " 1000000000.0503074,\n",
       " 1000000000.0446024,\n",
       " 1000000000.0124029,\n",
       " 1000000000.0150445,\n",
       " 999999999.8237804,\n",
       " 999999999.8430688,\n",
       " 999999999.7658578,\n",
       " 999999999.738714,\n",
       " 999999999.7023369,\n",
       " 999999999.7337223,\n",
       " 999999999.868076,\n",
       " 999999999.8310958,\n",
       " 999999999.8312185,\n",
       " 999999999.8168035,\n",
       " 999999999.7673956,\n",
       " 999999999.8716522,\n",
       " 999999999.8613839,\n",
       " 999999999.8254385,\n",
       " 999999999.752184,\n",
       " 999999999.8018132,\n",
       " 999999999.8058732,\n",
       " 999999999.7378113,\n",
       " 999999999.7573051,\n",
       " 999999999.7234969,\n",
       " 999999999.7519811,\n",
       " 999999999.8729255,\n",
       " 999999999.886231,\n",
       " 999999999.7885349,\n",
       " 999999999.8004235,\n",
       " 999999999.803131,\n",
       " 999999999.7798302,\n",
       " 999999999.7797556,\n",
       " 999999999.6700878,\n",
       " 999999999.5682458,\n",
       " 999999999.582802,\n",
       " 999999999.6858387,\n",
       " 999999999.6905787,\n",
       " 999999999.698225,\n",
       " 999999999.701508,\n",
       " 999999999.7030226,\n",
       " 999999999.7073673,\n",
       " 999999999.7290623,\n",
       " 999999999.7369521,\n",
       " 999999999.7499306,\n",
       " 999999999.7532493,\n",
       " 999999999.6945721,\n",
       " 999999999.6989262,\n",
       " 999999999.8560232,\n",
       " 999999999.9196935,\n",
       " 999999999.9006951,\n",
       " 999999999.8181034,\n",
       " 999999999.8074306,\n",
       " 999999999.807942,\n",
       " 999999999.8204201,\n",
       " 999999999.7960312,\n",
       " 999999999.8031462,\n",
       " 999999999.8292665,\n",
       " 999999999.7342737,\n",
       " 999999999.728277,\n",
       " 999999999.7477331,\n",
       " 999999999.7004651,\n",
       " 999999999.7038326,\n",
       " 999999999.6901102,\n",
       " 999999999.7180041,\n",
       " 999999999.7099158,\n",
       " 999999999.7316792,\n",
       " 999999999.7364752,\n",
       " 999999999.7279084,\n",
       " 999999999.7201356,\n",
       " 999999999.7483392,\n",
       " 999999999.8513484,\n",
       " 999999999.8397756]"
      ]
     },
     "execution_count": 4,
     "metadata": {},
     "output_type": "execute_result"
    }
   ],
   "source": [
    "g = online_mean(make_data(5, 100))\n",
    "print(type(g))\n",
    "list(g)"
   ]
  },
  {
   "cell_type": "markdown",
   "metadata": {},
   "source": [
    "### 2.1\n",
    "\n",
    "Implement the standard deviation algorithm as a generator function as\n",
    "\n",
    "```python\n",
    "def online_mean_dev(iterator):\n",
    "    BLA BLA\n",
    "    if n > 1:\n",
    "        stddev = math.sqrt(dev_accum/(n-1))\n",
    "        yield (n, value, mu, stddev)\n",
    "```"
   ]
  },
  {
   "cell_type": "code",
   "execution_count": 18,
   "metadata": {
    "collapsed": false
   },
   "outputs": [],
   "source": [
    "# your code here\n",
    "import math\n",
    "def online_mean_dev(iterator):\n",
    "    n=0\n",
    "    mu=0\n",
    "    dev_accum = 0\n",
    "    stddev = 0\n",
    "    for value in iterator: \n",
    "        n += 1\n",
    "        delta = value - mu\n",
    "        mu = mu + delta/n\n",
    "        delta2 = value - mu\n",
    "        dev_accum += delta*delta2\n",
    "        if n > 1:\n",
    "            stddev = math.sqrt(dev_accum/(n-1))\n",
    "            yield (n, value, mu, stddev)"
   ]
  },
  {
   "cell_type": "markdown",
   "metadata": {},
   "source": [
    "Here we make 100000 element data, and run this iterator on it (imagine running this on a time-series being slowly read from disk"
   ]
  },
  {
   "cell_type": "code",
   "execution_count": 21,
   "metadata": {
    "collapsed": true
   },
   "outputs": [],
   "source": [
    "data_with_stats = online_mean_dev(make_data(5, 10000))"
   ]
  },
  {
   "cell_type": "markdown",
   "metadata": {},
   "source": [
    "## Q3.\n",
    "\n",
    "Let's do Anomaly detection. Write a routine `is_ok`:\n",
    "\n",
    "```python\n",
    "def is_ok(level, t)\n",
    "```\n",
    "\n",
    "which takes a tuple like the one yielded by your code above and returns True if the value is inbetween `level`$*\\sigma$ of the mean."
   ]
  },
  {
   "cell_type": "code",
   "execution_count": 31,
   "metadata": {
    "collapsed": true
   },
   "outputs": [],
   "source": [
    "#your code here\n",
    "def is_ok(level, t):\n",
    "    if abs(t[1]-t[2])<=level*t[3]:\n",
    "        return True\n",
    "    return False"
   ]
  },
  {
   "cell_type": "markdown",
   "metadata": {},
   "source": [
    "We use this function to create a predicate passed through to `itertools.filterfalse` which is then used to obtain an iterator on the anomalies."
   ]
  },
  {
   "cell_type": "code",
   "execution_count": 32,
   "metadata": {
    "collapsed": true
   },
   "outputs": [],
   "source": [
    "from itertools import filterfalse\n",
    "pred = lambda t: is_ok(5, t)\n",
    "anomalies = filterfalse(pred, data_with_stats)"
   ]
  },
  {
   "cell_type": "markdown",
   "metadata": {},
   "source": [
    "We materialize the anomalies..."
   ]
  },
  {
   "cell_type": "code",
   "execution_count": 33,
   "metadata": {
    "collapsed": false
   },
   "outputs": [
    {
     "data": {
      "text/plain": [
       "[(3468, 999999985.2059408, 999999999.9970062, 2.938478635704255),\n",
       " (7003, 999999984.4080132, 1000000000.0042406, 2.903339878118392),\n",
       " (9461, 1000000016.7163684, 1000000000.0004239, 2.897045435294657)]"
      ]
     },
     "execution_count": 33,
     "metadata": {},
     "output_type": "execute_result"
    }
   ],
   "source": [
    "list(anomalies)#materialize"
   ]
  },
  {
   "cell_type": "markdown",
   "metadata": {},
   "source": [
    "## To think of, but not hand in\n",
    "\n",
    "What kinds of anomalies will this algorithm pick up? What kinds would a shorter \"window\" of anomaly detection, like 100 points around the time in question pick? How might you create an algorithm which does window based averaging? (hint: the window size is small compared to the time series size). \n",
    "\n",
    "Finally think a bit of how you might implement all of this in a production environment..remember that data streaming in might get backed up when you handle an anomaly.\n",
    "\n",
    "(Some inspiration might accrue if you look at the docs for `collections.deque`)."
   ]
  },
  {
   "cell_type": "markdown",
   "metadata": {
    "collapsed": true
   },
   "source": [
    "Answer:  \n",
    "The algorithm picks up the generated random number that are 5 standard deviation away from the online mean. To implement a shorter window, for example 100, one can record the average and standard deviation of the online mean and standard deviation before and compare to the current online mean and standard deviation to calculate for that only for this time window."
   ]
  }
 ],
 "metadata": {
  "kernelspec": {
   "display_name": "Python 3",
   "language": "python",
   "name": "python3"
  },
  "language_info": {
   "codemirror_mode": {
    "name": "ipython",
    "version": 3
   },
   "file_extension": ".py",
   "mimetype": "text/x-python",
   "name": "python",
   "nbconvert_exporter": "python",
   "pygments_lexer": "ipython3",
   "version": "3.5.1"
  }
 },
 "nbformat": 4,
 "nbformat_minor": 0
}
